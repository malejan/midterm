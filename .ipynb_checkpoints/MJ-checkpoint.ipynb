{
 "cells": [
  {
   "cell_type": "code",
   "execution_count": 4,
   "metadata": {},
   "outputs": [],
   "source": [
    "import numpy as np \n",
    "import pandas as pd\n",
    "import matplotlib.pyplot as plt\n",
    "\n",
    "import requests\n",
    "from bs4 import BeautifulSoup\n",
    "from lxml import html\n",
    "import tqdm\n",
    "import time"
   ]
  },
  {
   "cell_type": "markdown",
   "metadata": {},
   "source": [
    "# Discworld Wikipedia\n",
    "\n",
    "## Overview\n",
    "\n",
    "**1) Manual practice**\n",
    "\n",
    "**2) Creating classes**\n",
    "\n",
    "**3) Using developed classes**\n",
    "\n"
   ]
  },
  {
   "cell_type": "code",
   "execution_count": 5,
   "metadata": {},
   "outputs": [],
   "source": [
    "link = \"http://wiki.lspace.org/mediawiki/List_of_Pratchett_characters\""
   ]
  },
  {
   "cell_type": "code",
   "execution_count": null,
   "metadata": {},
   "outputs": [],
   "source": [
    "lis = soup.find('span',{'id':'Unseen_University_and_the_Wizards'}).parent.previous.previous.parent.parent.parent.find_all('li'))"
   ]
  },
  {
   "cell_type": "code",
   "execution_count": null,
   "metadata": {},
   "outputs": [],
   "source": []
  },
  {
   "cell_type": "code",
   "execution_count": 11,
   "metadata": {},
   "outputs": [],
   "source": [
    "class Downloader: \n",
    "    '''\n",
    "    Getting infos from webpage \n",
    "    '''\n",
    "    def __init__(self, link):\n",
    "        '''\n",
    "        Input link to search Character info\n",
    "        '''\n",
    "        self.link = link\n",
    "\n",
    "    def getSoup(self):\n",
    "        r = requests.get(self.link)\n",
    "        r.encoding = 'UTF-8'\n",
    "        return BeautifulSoup(r.text, 'html')\n",
    "    \n",
    "    def getLinks(self):\n",
    "        soup = self.getSoup()\n",
    "        charLinks = soup.find('span',{'id':'Unseen_University_and_the_Wizards'}).parent.previous.previous.parent.parent.parent.find_all('li')\n",
    "        \n",
    "        return ['http://wiki.lspace.org/' + char.find('a')['href'] for char in charLinks]\n"
   ]
  },
  {
   "cell_type": "code",
   "execution_count": 12,
   "metadata": {},
   "outputs": [
    {
     "data": {
      "text/plain": [
       "['http://wiki.lspace.org//mediawiki/Mrs._Cake',\n",
       " 'http://wiki.lspace.org//mediawiki/Fred_Colon',\n",
       " 'http://wiki.lspace.org//mediawiki/Mrs._Marietta_Cosmopilite',\n",
       " 'http://wiki.lspace.org//mediawiki/Detritus',\n",
       " 'http://wiki.lspace.org//mediawiki/Cut-Me-Own-Throat_Dibbler',\n",
       " 'http://wiki.lspace.org//mediawiki/Dorfl',\n",
       " 'http://wiki.lspace.org//mediawiki/Rufus_Drumknott',\n",
       " 'http://wiki.lspace.org//mediawiki/Gaspode',\n",
       " 'http://wiki.lspace.org//mediawiki/Carrot_Ironfoundersson',\n",
       " 'http://wiki.lspace.org//mediawiki/Leonard_of_Quirm',\n",
       " 'http://wiki.lspace.org//mediawiki/Cheery_Littlebottom',\n",
       " 'http://wiki.lspace.org//mediawiki/Nobby_Nobbs',\n",
       " 'http://wiki.lspace.org//mediawiki/Lady_Sybil_Ramkin',\n",
       " 'http://wiki.lspace.org//mediawiki/Foul_Ole_Ron',\n",
       " 'http://wiki.lspace.org//mediawiki/Reg_Shoe',\n",
       " 'http://wiki.lspace.org//mediawiki/Mr._Slant',\n",
       " 'http://wiki.lspace.org//mediawiki/Angua_von_%C3%9Cberwald',\n",
       " 'http://wiki.lspace.org//mediawiki/Havelock_Vetinari',\n",
       " 'http://wiki.lspace.org//mediawiki/Samuel_Vimes',\n",
       " 'http://wiki.lspace.org//mediawiki/Visit-the-Infidel-with-Explanatory-Pamphlets',\n",
       " 'http://wiki.lspace.org//mediawiki/Willikins']"
      ]
     },
     "execution_count": 12,
     "metadata": {},
     "output_type": "execute_result"
    }
   ],
   "source": [
    "Downloader(link).getLinks()"
   ]
  },
  {
   "cell_type": "code",
   "execution_count": null,
   "metadata": {},
   "outputs": [],
   "source": []
  },
  {
   "cell_type": "code",
   "execution_count": null,
   "metadata": {},
   "outputs": [],
   "source": []
  },
  {
   "cell_type": "code",
   "execution_count": null,
   "metadata": {},
   "outputs": [],
   "source": []
  },
  {
   "cell_type": "code",
   "execution_count": null,
   "metadata": {},
   "outputs": [],
   "source": []
  },
  {
   "cell_type": "code",
   "execution_count": null,
   "metadata": {},
   "outputs": [],
   "source": []
  }
 ],
 "metadata": {
  "kernelspec": {
   "display_name": "Python 3",
   "language": "python",
   "name": "python3"
  },
  "language_info": {
   "codemirror_mode": {
    "name": "ipython",
    "version": 3
   },
   "file_extension": ".py",
   "mimetype": "text/x-python",
   "name": "python",
   "nbconvert_exporter": "python",
   "pygments_lexer": "ipython3",
   "version": "3.7.3"
  }
 },
 "nbformat": 4,
 "nbformat_minor": 4
}
