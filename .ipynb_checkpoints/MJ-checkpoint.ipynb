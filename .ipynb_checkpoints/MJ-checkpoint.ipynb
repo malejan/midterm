{
 "cells": [
  {
   "cell_type": "code",
   "execution_count": 131,
   "metadata": {},
   "outputs": [],
   "source": [
    "import numpy as np \n",
    "import pandas as pd\n",
    "import matplotlib.pyplot as plt\n",
    "\n",
    "import requests\n",
    "from bs4 import BeautifulSoup\n",
    "from lxml import html\n",
    "import tqdm\n",
    "import time"
   ]
  },
  {
   "cell_type": "markdown",
   "metadata": {},
   "source": [
    "# Discworld Wikipedia\n",
    "\n",
    "## Overview\n",
    "\n",
    "**1) Manual practice**\n",
    "\n",
    "**2) Creating classes**\n",
    "\n",
    "**3) Using developed classes**\n",
    "\n"
   ]
  },
  {
   "cell_type": "markdown",
   "metadata": {},
   "source": [
    "# 2) Creating classes"
   ]
  },
  {
   "cell_type": "code",
   "execution_count": 132,
   "metadata": {},
   "outputs": [],
   "source": [
    "link = \"http://wiki.lspace.org/mediawiki/List_of_Pratchett_characters\""
   ]
  },
  {
   "cell_type": "code",
   "execution_count": 133,
   "metadata": {},
   "outputs": [],
   "source": [
    "#lis = soup.find('span',{'id':'Unseen_University_and_the_Wizards'}).parent.previous.previous.parent.parent.parent.find_all('li'))"
   ]
  },
  {
   "cell_type": "code",
   "execution_count": 140,
   "metadata": {},
   "outputs": [],
   "source": [
    "class CharPage:\n",
    "    '''\n",
    "    Class representing character's wikipage\n",
    "    '''\n",
    "    def  __init__(self, link):\n",
    "        '''\n",
    "        Generate book information from Char_Page attributes\n",
    "        '''\n",
    "        self.link = link\n",
    "        r = requests.get(link)\n",
    "        r.encoding='UTF-8'\n",
    "        self.soup = BeautifulSoup(r.text,'html')\n",
    "        \n",
    "        self.name  = self.getCharName()\n",
    "        \n",
    "                \n",
    "    def getCharName(self):\n",
    "        '''\n",
    "        Character name is derived from <h1> headline on wikipage.\n",
    "        '''\n",
    "        return self.soup.find('h1').text\n",
    "        #return self.soup.find('table').find('td', text='Name').get_text()\n",
    "        #return self.soup.find('table').findAll('td')[3].text.replace('\\n','').strip()\n",
    "        \n",
    "    def getBooks(self):\n",
    "         \n",
    "        booksList = self.soupfind('div', {'id':'mw-content-text'}).find('table').find(text = 'Books').parent.parent.parent.parent.findAll('i')\n",
    "        return [i.text.strip()  for i in booksList]\n",
    "    \n"
   ]
  },
  {
   "cell_type": "code",
   "execution_count": 135,
   "metadata": {},
   "outputs": [
    {
     "name": "stdout",
     "output_type": "stream",
     "text": [
      "Evadne Cake\n"
     ]
    }
   ],
   "source": [
    "print(CharPage(\"http://wiki.lspace.org/mediawiki/Evadne_Cake\").getCharName())"
   ]
  },
  {
   "cell_type": "code",
   "execution_count": 138,
   "metadata": {},
   "outputs": [],
   "source": [
    "class Downloader: \n",
    "    '''\n",
    "    Getting infos from webpage \n",
    "    '''\n",
    "    def __init__(self, link):\n",
    "        '''\n",
    "        Input link to search Character info\n",
    "        '''\n",
    "        self.link = getLinks()\n",
    "        self.names = []\n",
    "        \n",
    "\n",
    "    def getSoup(self, link):\n",
    "        r = requests.get(self.link)\n",
    "        r.encoding = 'UTF-8'\n",
    "        return BeautifulSoup(r.text, 'html')\n",
    "    \n",
    "    def getLinks(self):\n",
    "        wp = self.getSoup()\n",
    "        links = wp.find('span',{'id':'Unseen_University_and_the_Wizards'}).parent.previous.previous.parent.parent.parent.find_all('li')\n",
    "        return ['http://wiki.lspace.org' + li.find('a')['href'] for li in links]\n",
    "    \n",
    "    def downloadNames(self,pause=0.5):\n",
    "        '''\n",
    "        Download all names stored in self.link and store it in self.names\n",
    "        pause -- how long to pause between requests? (in seconds)\n",
    "        '''\n",
    "\n",
    "        for link in self.links:\n",
    "            name = CharPage(link)\n",
    "            self.names.append(name)\n",
    "            time.sleep(pause)\n",
    "\n",
    "    def saveDF(self):\n",
    "        df = pd.DataFrame([x.name for x in self.names])\n",
    "        df = [x.book() for x in self.books]\n",
    "        df.columns = ['Name', \"Books\"]\n",
    "        \n",
    "        self.df = df\n"
   ]
  },
  {
   "cell_type": "markdown",
   "metadata": {},
   "source": [
    "# 3) Using developed classes if they would work"
   ]
  },
  {
   "cell_type": "code",
   "execution_count": 139,
   "metadata": {},
   "outputs": [
    {
     "ename": "TypeError",
     "evalue": "getLinks() missing 1 required positional argument: 'link'",
     "output_type": "error",
     "traceback": [
      "\u001b[1;31m---------------------------------------------------------------------------\u001b[0m",
      "\u001b[1;31mTypeError\u001b[0m                                 Traceback (most recent call last)",
      "\u001b[1;32m<ipython-input-139-d3259415aa02>\u001b[0m in \u001b[0;36m<module>\u001b[1;34m\u001b[0m\n\u001b[1;32m----> 1\u001b[1;33m \u001b[0mdl\u001b[0m \u001b[1;33m=\u001b[0m \u001b[0mDownloader\u001b[0m\u001b[1;33m(\u001b[0m\u001b[0mlink\u001b[0m\u001b[1;33m)\u001b[0m\u001b[1;33m\u001b[0m\u001b[1;33m\u001b[0m\u001b[0m\n\u001b[0m\u001b[0;32m      2\u001b[0m \u001b[0mdl\u001b[0m\u001b[1;33m.\u001b[0m\u001b[0mdownloadNames\u001b[0m\u001b[1;33m(\u001b[0m\u001b[1;33m)\u001b[0m\u001b[1;33m\u001b[0m\u001b[1;33m\u001b[0m\u001b[0m\n\u001b[0;32m      3\u001b[0m \u001b[0mdl\u001b[0m\u001b[1;33m.\u001b[0m\u001b[0msaveDF\u001b[0m\u001b[1;33m(\u001b[0m\u001b[1;33m)\u001b[0m\u001b[1;33m\u001b[0m\u001b[1;33m\u001b[0m\u001b[0m\n",
      "\u001b[1;32m<ipython-input-138-126f73e05ea8>\u001b[0m in \u001b[0;36m__init__\u001b[1;34m(self, link)\u001b[0m\n\u001b[0;32m      7\u001b[0m         \u001b[0mInput\u001b[0m \u001b[0mlink\u001b[0m \u001b[0mto\u001b[0m \u001b[0msearch\u001b[0m \u001b[0mCharacter\u001b[0m \u001b[0minfo\u001b[0m\u001b[1;33m\u001b[0m\u001b[1;33m\u001b[0m\u001b[0m\n\u001b[0;32m      8\u001b[0m         '''\n\u001b[1;32m----> 9\u001b[1;33m         \u001b[0mself\u001b[0m\u001b[1;33m.\u001b[0m\u001b[0mlink\u001b[0m \u001b[1;33m=\u001b[0m \u001b[0mgetLinks\u001b[0m\u001b[1;33m(\u001b[0m\u001b[1;33m)\u001b[0m\u001b[1;33m\u001b[0m\u001b[1;33m\u001b[0m\u001b[0m\n\u001b[0m\u001b[0;32m     10\u001b[0m         \u001b[0mself\u001b[0m\u001b[1;33m.\u001b[0m\u001b[0mnames\u001b[0m \u001b[1;33m=\u001b[0m \u001b[1;33m[\u001b[0m\u001b[1;33m]\u001b[0m\u001b[1;33m\u001b[0m\u001b[1;33m\u001b[0m\u001b[0m\n\u001b[0;32m     11\u001b[0m \u001b[1;33m\u001b[0m\u001b[0m\n",
      "\u001b[1;31mTypeError\u001b[0m: getLinks() missing 1 required positional argument: 'link'"
     ]
    }
   ],
   "source": [
    "dl = Downloader(link)\n",
    "dl.downloadNames()\n",
    "dl.saveDF()"
   ]
  },
  {
   "cell_type": "code",
   "execution_count": null,
   "metadata": {},
   "outputs": [],
   "source": [
    "dl.df"
   ]
  },
  {
   "cell_type": "code",
   "execution_count": null,
   "metadata": {},
   "outputs": [],
   "source": []
  },
  {
   "cell_type": "code",
   "execution_count": null,
   "metadata": {},
   "outputs": [],
   "source": []
  },
  {
   "cell_type": "code",
   "execution_count": null,
   "metadata": {},
   "outputs": [],
   "source": []
  },
  {
   "cell_type": "code",
   "execution_count": null,
   "metadata": {},
   "outputs": [],
   "source": []
  },
  {
   "cell_type": "code",
   "execution_count": null,
   "metadata": {},
   "outputs": [],
   "source": []
  },
  {
   "cell_type": "code",
   "execution_count": null,
   "metadata": {},
   "outputs": [],
   "source": []
  }
 ],
 "metadata": {
  "kernelspec": {
   "display_name": "Python 3",
   "language": "python",
   "name": "python3"
  },
  "language_info": {
   "codemirror_mode": {
    "name": "ipython",
    "version": 3
   },
   "file_extension": ".py",
   "mimetype": "text/x-python",
   "name": "python",
   "nbconvert_exporter": "python",
   "pygments_lexer": "ipython3",
   "version": "3.7.3"
  }
 },
 "nbformat": 4,
 "nbformat_minor": 4
}
